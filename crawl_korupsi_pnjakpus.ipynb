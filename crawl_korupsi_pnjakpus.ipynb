{
 "cells": [
  {
   "cell_type": "markdown",
   "metadata": {},
   "source": [
    "# Fetch List of Cases"
   ]
  },
  {
   "cell_type": "code",
   "execution_count": 1,
   "metadata": {
    "collapsed": true
   },
   "outputs": [],
   "source": [
    "import requests\n",
    "import pandas as pd\n",
    "import numpy as np\n",
    "import re\n",
    "\n",
    "from bs4 import BeautifulSoup\n",
    "from selenium import webdriver\n",
    "from tqdm import tqdm_notebook as tqdm"
   ]
  },
  {
   "cell_type": "code",
   "execution_count": 2,
   "metadata": {},
   "outputs": [],
   "source": [
    "data = pd.DataFrame()"
   ]
  },
  {
   "cell_type": "code",
   "execution_count": 4,
   "metadata": {},
   "outputs": [
    {
     "data": {
      "application/vnd.jupyter.widget-view+json": {
       "model_id": "62c5cb31c7714756a8dd9a27cfeaabcb",
       "version_major": 2,
       "version_minor": 0
      },
      "text/plain": [
       "A Jupyter Widget"
      ]
     },
     "metadata": {},
     "output_type": "display_data"
    }
   ],
   "source": [
    "for i in tqdm(range(49,0,-1)):\n",
    "    data_page = []\n",
    "    # set the URL\n",
    "    url = 'http://sipp.pn-jakartapusat.go.id/http://sipp.pn-jakartapusat.go.id/list_perkara/page/'+str(i)+'/OXB2Nkc3U0lzUVoza1pGcjMrNUx6QkZyRU5ZU1cxekczRnYrcGY0ZDN3elVpKzFjeDJjWXAzOWRTOU9ENy81ejFFUlFSRzkxWURhaWVzNWVKYUdYTGc9PQ==/key/col/2:147'\n",
    "    \n",
    "    # fetch the webpage\n",
    "    driver = webdriver.Chrome()\n",
    "    driver.implicitly_wait(20)\n",
    "    driver.get(url)\n",
    "    soup = BeautifulSoup(driver.page_source, \"html.parser\")\n",
    "    driver.quit()\n",
    "    \n",
    "    # parsing data row by row\n",
    "    table_rows = soup.find_all('tr')\n",
    "    for row in table_rows:\n",
    "        cols = row.find_all('td')\n",
    "        cols = [ele.get_text(separator=' ') if ele.get_text() != '[detil]' else ele.find('a')['href']  for ele in cols]\n",
    "        data_page.append(cols)\n",
    "    \n",
    "    page_table = pd.DataFrame(data_page[1:-1],columns=data_page[0]).set_index('Nomor Perkara').drop('No',axis=1)\n",
    "    data = data.append(page_table)"
   ]
  },
  {
   "cell_type": "code",
   "execution_count": 12,
   "metadata": {},
   "outputs": [],
   "source": [
    "# Remove duplicates by case ID\n",
    "data = data[~data.index.duplicated(keep='first')]"
   ]
  },
  {
   "cell_type": "code",
   "execution_count": 16,
   "metadata": {},
   "outputs": [],
   "source": [
    "# Save data to external file\n",
    "data.to_csv('C:/Users/akmal.fadhlurrahman/Documents/personal_stuff/adhoc_judge/data/case_list.csv')"
   ]
  },
  {
   "cell_type": "markdown",
   "metadata": {},
   "source": [
    "# Fetch Case Details"
   ]
  }
 ],
 "metadata": {
  "kernelspec": {
   "display_name": "Python 3",
   "language": "python",
   "name": "python3"
  },
  "language_info": {
   "codemirror_mode": {
    "name": "ipython",
    "version": 3
   },
   "file_extension": ".py",
   "mimetype": "text/x-python",
   "name": "python",
   "nbconvert_exporter": "python",
   "pygments_lexer": "ipython3",
   "version": "3.6.3"
  }
 },
 "nbformat": 4,
 "nbformat_minor": 2
}
