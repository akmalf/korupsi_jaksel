{
 "cells": [
  {
   "cell_type": "markdown",
   "metadata": {},
   "source": [
    "# Fetch List of Cases"
   ]
  },
  {
   "cell_type": "code",
   "execution_count": 2,
   "metadata": {
    "collapsed": true
   },
   "outputs": [],
   "source": [
    "import requests\n",
    "import pandas as pd\n",
    "import numpy as np\n",
    "import re\n",
    "import pickle\n",
    "\n",
    "from bs4 import BeautifulSoup\n",
    "from selenium import webdriver\n",
    "from tqdm import tqdm_notebook as tqdm"
   ]
  },
  {
   "cell_type": "code",
   "execution_count": 2,
   "metadata": {
    "collapsed": true
   },
   "outputs": [],
   "source": [
    "data = pd.DataFrame()"
   ]
  },
  {
   "cell_type": "code",
   "execution_count": 4,
   "metadata": {},
   "outputs": [
    {
     "data": {
      "application/vnd.jupyter.widget-view+json": {
       "model_id": "62c5cb31c7714756a8dd9a27cfeaabcb",
       "version_major": 2,
       "version_minor": 0
      },
      "text/plain": [
       "A Jupyter Widget"
      ]
     },
     "metadata": {},
     "output_type": "display_data"
    }
   ],
   "source": [
    "for i in tqdm(range(49,0,-1)):\n",
    "    data_page = []\n",
    "    # set the URL\n",
    "    url = 'http://sipp.pn-jakartapusat.go.id/http://sipp.pn-jakartapusat.go.id/list_perkara/page/'+str(i)+'/OXB2Nkc3U0lzUVoza1pGcjMrNUx6QkZyRU5ZU1cxekczRnYrcGY0ZDN3elVpKzFjeDJjWXAzOWRTOU9ENy81ejFFUlFSRzkxWURhaWVzNWVKYUdYTGc9PQ==/key/col/2:147'\n",
    "    \n",
    "    # fetch the webpage\n",
    "    driver = webdriver.Chrome()\n",
    "    driver.implicitly_wait(20)\n",
    "    driver.get(url)\n",
    "    soup = BeautifulSoup(driver.page_source, \"html.parser\")\n",
    "    driver.quit()\n",
    "    \n",
    "    # parsing data row by row\n",
    "    table_rows = soup.find_all('tr')\n",
    "    for row in table_rows:\n",
    "        cols = row.find_all('td')\n",
    "        cols = [ele.get_text(separator=' ') if ele.get_text() != '[detil]' else ele.find('a')['href']  for ele in cols]\n",
    "        data_page.append(cols)\n",
    "    \n",
    "    page_table = pd.DataFrame(data_page[1:-1],columns=data_page[0]).set_index('Nomor Perkara').drop('No',axis=1)\n",
    "    data = data.append(page_table)"
   ]
  },
  {
   "cell_type": "code",
   "execution_count": 12,
   "metadata": {
    "collapsed": true
   },
   "outputs": [],
   "source": [
    "# Remove duplicates by case ID\n",
    "data = data[~data.index.duplicated(keep='first')]"
   ]
  },
  {
   "cell_type": "code",
   "execution_count": 26,
   "metadata": {
    "collapsed": true
   },
   "outputs": [],
   "source": [
    "# Save data to external file\n",
    "\n",
    "# Crawled DataFrame to pickle\n",
    "with open('C:/Users/akmal.fadhlurrahman/Documents/personal_stuff/adhoc_judge/data/case_list.pickle', 'wb') as f:\n",
    "    pickle.dump(data, f)\n",
    "\n",
    "# Crawled data to CSV\n",
    "data.to_csv('C:/Users/akmal.fadhlurrahman/Documents/personal_stuff/adhoc_judge/data/case_list.csv')"
   ]
  },
  {
   "cell_type": "markdown",
   "metadata": {},
   "source": [
    "# Fetch Case Details\n",
    "\n",
    "## Fetch Judge and Clerk Name"
   ]
  },
  {
   "cell_type": "code",
   "execution_count": 3,
   "metadata": {},
   "outputs": [],
   "source": [
    "# Load pickled case list\n",
    "with open('C:/Users/akmal.fadhlurrahman/Documents/personal_stuff/adhoc_judge/data/case_list.pickle', 'rb') as f:\n",
    "    datax = pickle.load(f)"
   ]
  },
  {
   "cell_type": "code",
   "execution_count": 4,
   "metadata": {},
   "outputs": [
    {
     "data": {
      "text/plain": [
       "964"
      ]
     },
     "execution_count": 4,
     "metadata": {},
     "output_type": "execute_result"
    }
   ],
   "source": [
    "case_list = list(datax.index.unique())\n",
    "len(case_list)"
   ]
  },
  {
   "cell_type": "code",
   "execution_count": 5,
   "metadata": {
    "collapsed": true
   },
   "outputs": [],
   "source": [
    "data_hakim = pd.DataFrame()\n",
    "data_panitera = pd.DataFrame()\n",
    "data_sidang_pertama = pd.DataFrame()"
   ]
  },
  {
   "cell_type": "code",
   "execution_count": 6,
   "metadata": {},
   "outputs": [
    {
     "data": {
      "application/vnd.jupyter.widget-view+json": {
       "model_id": "64d685a31edf40528a115ebfe30d914a",
       "version_major": 2,
       "version_minor": 0
      },
      "text/plain": [
       "A Jupyter Widget"
      ]
     },
     "metadata": {},
     "output_type": "display_data"
    },
    {
     "name": "stdout",
     "output_type": "stream",
     "text": [
      "\n"
     ]
    }
   ],
   "source": [
    "for case in tqdm(case_list):\n",
    "    url = datax.loc[case]['Link']\n",
    "    url_hakim = url.replace(\"show_detil\",\"show_penetapan\")\n",
    "    \n",
    "    # fetch the webpage\n",
    "    driver = webdriver.Chrome()\n",
    "    driver.implicitly_wait(15)\n",
    "    driver.get(url_hakim)\n",
    "    soup = BeautifulSoup(driver.page_source, \"lxml\")\n",
    "    driver.quit()\n",
    "    \n",
    "    # Tabel Hakim\n",
    "    kolom_tabel_hakim = ['Nomor Perkara','Tanggal Penetapan', 'Nama Hakim/Majelis Hakim', 'Posisi', 'Aktif']\n",
    "    hakim_kasus = []\n",
    "    table_hakim = soup.find_all('div',class_='cssTable')[0].find_all('tr')\n",
    "    for row in table_hakim:\n",
    "        cols = row.find_all('td')\n",
    "        cols = [ele.get_text(separator=' ') for ele in cols]\n",
    "        cols.insert(0,case)\n",
    "        hakim_kasus.append(cols)\n",
    "    \n",
    "    page_table = pd.DataFrame(hakim_kasus[1:],columns=kolom_tabel_hakim).set_index('Nomor Perkara')\n",
    "    data_hakim = data_hakim.append(page_table)\n",
    "    \n",
    "    # Tabel Panitera\n",
    "    kolom_tabel_panitera = ['Nomor Perkara','Tanggal Penetapan', 'Nama Panitera Pengganti', 'Aktif']\n",
    "    panitera_kasus = []\n",
    "    table_panitera = soup.find_all('div',class_='cssTable')[1].find_all('tr')\n",
    "    for row in table_panitera:\n",
    "        cols = row.find_all('td')\n",
    "        cols = [ele.get_text(separator=' ') for ele in cols]\n",
    "        cols.insert(0,case)\n",
    "        panitera_kasus.append(cols)\n",
    "    \n",
    "    table_panitera = pd.DataFrame(panitera_kasus[1:],columns=kolom_tabel_panitera).set_index('Nomor Perkara')\n",
    "    data_panitera = data_panitera.append(table_panitera)\n",
    "    \n",
    "    # Tabel Hari Sidang Pertama\n",
    "    kolom_tabel_pertama = ['Nomor Perkara','Tanggal Penetapan', 'Tanggal Sidang Pertama']\n",
    "    sidang_pertama_kasus = []\n",
    "    table_sidang_pertama = soup.find_all('div',class_='cssTable')[2].find_all('tr')\n",
    "    for row in table_sidang_pertama:\n",
    "        cols = row.find_all('td')\n",
    "        cols = [ele.get_text(separator=' ') for ele in cols]\n",
    "        cols.insert(0,case)\n",
    "        sidang_pertama_kasus.append(cols)\n",
    "    \n",
    "    table_sidang_pertama = pd.DataFrame(sidang_pertama_kasus[1:],columns=kolom_tabel_pertama).set_index('Nomor Perkara')\n",
    "    data_sidang_pertama = data_sidang_pertama.append(table_sidang_pertama)    "
   ]
  },
  {
   "cell_type": "code",
   "execution_count": 9,
   "metadata": {},
   "outputs": [
    {
     "data": {
      "text/html": [
       "<div>\n",
       "<style>\n",
       "    .dataframe thead tr:only-child th {\n",
       "        text-align: right;\n",
       "    }\n",
       "\n",
       "    .dataframe thead th {\n",
       "        text-align: left;\n",
       "    }\n",
       "\n",
       "    .dataframe tbody tr th {\n",
       "        vertical-align: top;\n",
       "    }\n",
       "</style>\n",
       "<table border=\"1\" class=\"dataframe\">\n",
       "  <thead>\n",
       "    <tr style=\"text-align: right;\">\n",
       "      <th></th>\n",
       "      <th>Tanggal Penetapan</th>\n",
       "      <th>Nama Hakim/Majelis Hakim</th>\n",
       "      <th>Posisi</th>\n",
       "      <th>Aktif</th>\n",
       "    </tr>\n",
       "    <tr>\n",
       "      <th>Nomor Perkara</th>\n",
       "      <th></th>\n",
       "      <th></th>\n",
       "      <th></th>\n",
       "      <th></th>\n",
       "    </tr>\n",
       "  </thead>\n",
       "  <tbody>\n",
       "    <tr>\n",
       "      <th>58/Pid.Sus-TPK/2019/PN Jkt.Pst</th>\n",
       "      <td>Senin, 29 Apr. 2019</td>\n",
       "      <td>Belum Dapat Ditampilkan</td>\n",
       "      <td>Hakim Ketua</td>\n",
       "      <td>Ya</td>\n",
       "    </tr>\n",
       "    <tr>\n",
       "      <th>58/Pid.Sus-TPK/2019/PN Jkt.Pst</th>\n",
       "      <td>Senin, 29 Apr. 2019</td>\n",
       "      <td>Belum Dapat Ditampilkan</td>\n",
       "      <td>Hakim Anggota</td>\n",
       "      <td>Ya</td>\n",
       "    </tr>\n",
       "    <tr>\n",
       "      <th>58/Pid.Sus-TPK/2019/PN Jkt.Pst</th>\n",
       "      <td>Senin, 29 Apr. 2019</td>\n",
       "      <td>Belum Dapat Ditampilkan</td>\n",
       "      <td>Hakim Anggota</td>\n",
       "      <td>Ya</td>\n",
       "    </tr>\n",
       "    <tr>\n",
       "      <th>58/Pid.Sus-TPK/2019/PN Jkt.Pst</th>\n",
       "      <td>Senin, 29 Apr. 2019</td>\n",
       "      <td>Belum Dapat Ditampilkan</td>\n",
       "      <td>Hakim Anggota</td>\n",
       "      <td>Ya</td>\n",
       "    </tr>\n",
       "    <tr>\n",
       "      <th>58/Pid.Sus-TPK/2019/PN Jkt.Pst</th>\n",
       "      <td>Senin, 29 Apr. 2019</td>\n",
       "      <td>Belum Dapat Ditampilkan</td>\n",
       "      <td>Hakim Anggota</td>\n",
       "      <td>Ya</td>\n",
       "    </tr>\n",
       "  </tbody>\n",
       "</table>\n",
       "</div>"
      ],
      "text/plain": [
       "                                  Tanggal Penetapan Nama Hakim/Majelis Hakim  \\\n",
       "Nomor Perkara                                                                  \n",
       "58/Pid.Sus-TPK/2019/PN Jkt.Pst  Senin, 29 Apr. 2019  Belum Dapat Ditampilkan   \n",
       "58/Pid.Sus-TPK/2019/PN Jkt.Pst  Senin, 29 Apr. 2019  Belum Dapat Ditampilkan   \n",
       "58/Pid.Sus-TPK/2019/PN Jkt.Pst  Senin, 29 Apr. 2019  Belum Dapat Ditampilkan   \n",
       "58/Pid.Sus-TPK/2019/PN Jkt.Pst  Senin, 29 Apr. 2019  Belum Dapat Ditampilkan   \n",
       "58/Pid.Sus-TPK/2019/PN Jkt.Pst  Senin, 29 Apr. 2019  Belum Dapat Ditampilkan   \n",
       "\n",
       "                                       Posisi Aktif  \n",
       "Nomor Perkara                                        \n",
       "58/Pid.Sus-TPK/2019/PN Jkt.Pst    Hakim Ketua    Ya  \n",
       "58/Pid.Sus-TPK/2019/PN Jkt.Pst  Hakim Anggota    Ya  \n",
       "58/Pid.Sus-TPK/2019/PN Jkt.Pst  Hakim Anggota    Ya  \n",
       "58/Pid.Sus-TPK/2019/PN Jkt.Pst  Hakim Anggota    Ya  \n",
       "58/Pid.Sus-TPK/2019/PN Jkt.Pst  Hakim Anggota    Ya  "
      ]
     },
     "execution_count": 9,
     "metadata": {},
     "output_type": "execute_result"
    }
   ],
   "source": [
    "data_hakim.head()"
   ]
  },
  {
   "cell_type": "code",
   "execution_count": 11,
   "metadata": {},
   "outputs": [
    {
     "data": {
      "text/html": [
       "<div>\n",
       "<style>\n",
       "    .dataframe thead tr:only-child th {\n",
       "        text-align: right;\n",
       "    }\n",
       "\n",
       "    .dataframe thead th {\n",
       "        text-align: left;\n",
       "    }\n",
       "\n",
       "    .dataframe tbody tr th {\n",
       "        vertical-align: top;\n",
       "    }\n",
       "</style>\n",
       "<table border=\"1\" class=\"dataframe\">\n",
       "  <thead>\n",
       "    <tr style=\"text-align: right;\">\n",
       "      <th></th>\n",
       "      <th>Tanggal Penetapan</th>\n",
       "      <th>Nama Panitera Pengganti</th>\n",
       "      <th>Aktif</th>\n",
       "    </tr>\n",
       "    <tr>\n",
       "      <th>Nomor Perkara</th>\n",
       "      <th></th>\n",
       "      <th></th>\n",
       "      <th></th>\n",
       "    </tr>\n",
       "  </thead>\n",
       "  <tbody>\n",
       "    <tr>\n",
       "      <th>00012/PID.B/TPKOR/2011/PN.JKT.PST</th>\n",
       "      <td>Senin, 21 Mar. 2011</td>\n",
       "      <td>WIDI ASTUTI, SH</td>\n",
       "      <td>Ya</td>\n",
       "    </tr>\n",
       "    <tr>\n",
       "      <th>00013/PID.B/TPKOR/2011/PN.JKT.PST</th>\n",
       "      <td>Senin, 28 Mar. 2011</td>\n",
       "      <td>TEUKU UMAR, SH. MH.</td>\n",
       "      <td>Ya</td>\n",
       "    </tr>\n",
       "    <tr>\n",
       "      <th>00014/PID.B/TPKOR/2011/PN.JKT.PST</th>\n",
       "      <td>Senin, 28 Mar. 2011</td>\n",
       "      <td>RUSTIANI, SH</td>\n",
       "      <td>Ya</td>\n",
       "    </tr>\n",
       "    <tr>\n",
       "      <th>00015/PID.B/TPKOR/2011/PN.JKT.PST</th>\n",
       "      <td>Rabu, 30 Mar. 2011</td>\n",
       "      <td>FATONI, SH</td>\n",
       "      <td>Ya</td>\n",
       "    </tr>\n",
       "    <tr>\n",
       "      <th>00015/PID.B/TPKOR/2011/PN.JKT.PST</th>\n",
       "      <td>Rabu, 30 Mar. 2011</td>\n",
       "      <td>WIJI ASTUTI</td>\n",
       "      <td>Ya</td>\n",
       "    </tr>\n",
       "  </tbody>\n",
       "</table>\n",
       "</div>"
      ],
      "text/plain": [
       "                                     Tanggal Penetapan  \\\n",
       "Nomor Perkara                                            \n",
       "00012/PID.B/TPKOR/2011/PN.JKT.PST  Senin, 21 Mar. 2011   \n",
       "00013/PID.B/TPKOR/2011/PN.JKT.PST  Senin, 28 Mar. 2011   \n",
       "00014/PID.B/TPKOR/2011/PN.JKT.PST  Senin, 28 Mar. 2011   \n",
       "00015/PID.B/TPKOR/2011/PN.JKT.PST   Rabu, 30 Mar. 2011   \n",
       "00015/PID.B/TPKOR/2011/PN.JKT.PST   Rabu, 30 Mar. 2011   \n",
       "\n",
       "                                  Nama Panitera Pengganti Aktif  \n",
       "Nomor Perkara                                                    \n",
       "00012/PID.B/TPKOR/2011/PN.JKT.PST         WIDI ASTUTI, SH    Ya  \n",
       "00013/PID.B/TPKOR/2011/PN.JKT.PST     TEUKU UMAR, SH. MH.    Ya  \n",
       "00014/PID.B/TPKOR/2011/PN.JKT.PST            RUSTIANI, SH    Ya  \n",
       "00015/PID.B/TPKOR/2011/PN.JKT.PST              FATONI, SH    Ya  \n",
       "00015/PID.B/TPKOR/2011/PN.JKT.PST             WIJI ASTUTI    Ya  "
      ]
     },
     "execution_count": 11,
     "metadata": {},
     "output_type": "execute_result"
    }
   ],
   "source": [
    "data_panitera.tail()"
   ]
  },
  {
   "cell_type": "code",
   "execution_count": 12,
   "metadata": {},
   "outputs": [
    {
     "data": {
      "text/html": [
       "<div>\n",
       "<style>\n",
       "    .dataframe thead tr:only-child th {\n",
       "        text-align: right;\n",
       "    }\n",
       "\n",
       "    .dataframe thead th {\n",
       "        text-align: left;\n",
       "    }\n",
       "\n",
       "    .dataframe tbody tr th {\n",
       "        vertical-align: top;\n",
       "    }\n",
       "</style>\n",
       "<table border=\"1\" class=\"dataframe\">\n",
       "  <thead>\n",
       "    <tr style=\"text-align: right;\">\n",
       "      <th></th>\n",
       "      <th>Tanggal Penetapan</th>\n",
       "      <th>Tanggal Sidang Pertama</th>\n",
       "    </tr>\n",
       "    <tr>\n",
       "      <th>Nomor Perkara</th>\n",
       "      <th></th>\n",
       "      <th></th>\n",
       "    </tr>\n",
       "  </thead>\n",
       "  <tbody>\n",
       "    <tr>\n",
       "      <th>00011/PID.B/TPKOR/2011/PN.JKT.PST</th>\n",
       "      <td>Selasa, 22 Mar. 2011</td>\n",
       "      <td>Senin, 04 Apr. 2011</td>\n",
       "    </tr>\n",
       "    <tr>\n",
       "      <th>00012/PID.B/TPKOR/2011/PN.JKT.PST</th>\n",
       "      <td>Kamis, 24 Mar. 2011</td>\n",
       "      <td>Selasa, 29 Mar. 2011</td>\n",
       "    </tr>\n",
       "    <tr>\n",
       "      <th>00013/PID.B/TPKOR/2011/PN.JKT.PST</th>\n",
       "      <td>Senin, 28 Mar. 2011</td>\n",
       "      <td>Selasa, 29 Mar. 2011</td>\n",
       "    </tr>\n",
       "    <tr>\n",
       "      <th>00014/PID.B/TPKOR/2011/PN.JKT.PST</th>\n",
       "      <td>Rabu, 30 Mar. 2011</td>\n",
       "      <td>Senin, 11 Apr. 2011</td>\n",
       "    </tr>\n",
       "    <tr>\n",
       "      <th>00015/PID.B/TPKOR/2011/PN.JKT.PST</th>\n",
       "      <td>Jumat, 01 Apr. 2011</td>\n",
       "      <td>Kamis, 07 Apr. 2011</td>\n",
       "    </tr>\n",
       "  </tbody>\n",
       "</table>\n",
       "</div>"
      ],
      "text/plain": [
       "                                      Tanggal Penetapan Tanggal Sidang Pertama\n",
       "Nomor Perkara                                                                 \n",
       "00011/PID.B/TPKOR/2011/PN.JKT.PST  Selasa, 22 Mar. 2011    Senin, 04 Apr. 2011\n",
       "00012/PID.B/TPKOR/2011/PN.JKT.PST   Kamis, 24 Mar. 2011   Selasa, 29 Mar. 2011\n",
       "00013/PID.B/TPKOR/2011/PN.JKT.PST   Senin, 28 Mar. 2011   Selasa, 29 Mar. 2011\n",
       "00014/PID.B/TPKOR/2011/PN.JKT.PST    Rabu, 30 Mar. 2011    Senin, 11 Apr. 2011\n",
       "00015/PID.B/TPKOR/2011/PN.JKT.PST   Jumat, 01 Apr. 2011    Kamis, 07 Apr. 2011"
      ]
     },
     "execution_count": 12,
     "metadata": {},
     "output_type": "execute_result"
    }
   ],
   "source": [
    "data_sidang_pertama.tail()"
   ]
  },
  {
   "cell_type": "code",
   "execution_count": 8,
   "metadata": {
    "collapsed": true
   },
   "outputs": [],
   "source": [
    "# Save data to external file\n",
    "\n",
    "# Crawled DataFrame to pickle\n",
    "with open('C:/Users/akmal.fadhlurrahman/Documents/personal_stuff/adhoc_judge/data/case_judge_list.pickle', 'wb') as f:\n",
    "    pickle.dump(data_hakim, f)\n",
    "    \n",
    "with open('C:/Users/akmal.fadhlurrahman/Documents/personal_stuff/adhoc_judge/data/case_clerk_list.pickle', 'wb') as f:\n",
    "    pickle.dump(data_panitera, f)\n",
    "    \n",
    "with open('C:/Users/akmal.fadhlurrahman/Documents/personal_stuff/adhoc_judge/data/case_first_court_day.pickle', 'wb') as f:\n",
    "    pickle.dump(data_sidang_pertama, f)\n",
    "\n",
    "# Crawled data to CSV\n",
    "data_hakim.to_csv('C:/Users/akmal.fadhlurrahman/Documents/personal_stuff/adhoc_judge/data/case_judge_list.csv')\n",
    "data_panitera.to_csv('C:/Users/akmal.fadhlurrahman/Documents/personal_stuff/adhoc_judge/data/case_judge_list.csv')\n",
    "data_hakim.to_csv('C:/Users/akmal.fadhlurrahman/Documents/personal_stuff/adhoc_judge/data/case_judge_list.csv')"
   ]
  }
 ],
 "metadata": {
  "kernelspec": {
   "display_name": "Python 3",
   "language": "python",
   "name": "python3"
  },
  "language_info": {
   "codemirror_mode": {
    "name": "ipython",
    "version": 3
   },
   "file_extension": ".py",
   "mimetype": "text/x-python",
   "name": "python",
   "nbconvert_exporter": "python",
   "pygments_lexer": "ipython3",
   "version": "3.6.3"
  }
 },
 "nbformat": 4,
 "nbformat_minor": 2
}
